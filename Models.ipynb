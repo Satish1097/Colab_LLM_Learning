{
  "nbformat": 4,
  "nbformat_minor": 0,
  "metadata": {
    "colab": {
      "provenance": [],
      "gpuType": "T4",
      "authorship_tag": "ABX9TyMuNKD3KBL15j3iM46ms3Ur",
      "include_colab_link": true
    },
    "kernelspec": {
      "name": "python3",
      "display_name": "Python 3"
    },
    "language_info": {
      "name": "python"
    },
    "accelerator": "GPU"
  },
  "cells": [
    {
      "cell_type": "markdown",
      "metadata": {
        "id": "view-in-github",
        "colab_type": "text"
      },
      "source": [
        "<a href=\"https://colab.research.google.com/github/Satish1097/Colab_LLM_Learning/blob/main/Models.ipynb\" target=\"_parent\"><img src=\"https://colab.research.google.com/assets/colab-badge.svg\" alt=\"Open In Colab\"/></a>"
      ]
    },
    {
      "cell_type": "code",
      "execution_count": null,
      "metadata": {
        "id": "AGIxfJIh1Kcs"
      },
      "outputs": [],
      "source": [
        "!pip install -q requests torch transformers sentencepiece accelerate"
      ]
    },
    {
      "cell_type": "code",
      "source": [
        "!pip install -q -U bitsandbytes"
      ],
      "metadata": {
        "id": "TM9WS1aJ1kfX"
      },
      "execution_count": null,
      "outputs": []
    },
    {
      "cell_type": "code",
      "source": [
        "from google.colab import userdata\n",
        "from huggingface_hub import login\n",
        "from transformers import AutoTokenizer, AutoModelForCausalLM, TextStreamer, BitsAndBytesConfig\n",
        "import torch"
      ],
      "metadata": {
        "id": "CIxBkrUr1pq1"
      },
      "execution_count": 3,
      "outputs": []
    },
    {
      "cell_type": "code",
      "source": [
        "hf_token = userdata.get('HUGGING_FACE_API_KEY')\n",
        "login(hf_token, add_to_git_credential=True)"
      ],
      "metadata": {
        "id": "XANkTMmx1ssN"
      },
      "execution_count": 4,
      "outputs": []
    },
    {
      "cell_type": "code",
      "source": [
        "LLMA = \"meta-llama/Meta-Llama-3.1-8B-Instruct\"\n",
        "PHI3 = \"microsoft/phi-3-mini-4k-instruct\"\n",
        "GEMMA2 = \"google/gemma-2-2b-it\"\n",
        "QWEN2 = \"Qwen/Qwen2-7B-Instruct\"\n",
        "MIXTRAL = \"mistralai/Mixtral-8x7B-Instruct-v0.1\""
      ],
      "metadata": {
        "id": "y6pWorCz1wGD"
      },
      "execution_count": 5,
      "outputs": []
    },
    {
      "cell_type": "code",
      "source": [
        "messages=[\n",
        "    {\"role\":'system',\"content\":\"You're a helpful assistant\"},\n",
        "    {\"role\":'user',\"content\":\"What is transformers\"}\n",
        "]"
      ],
      "metadata": {
        "id": "R2cW2TXG10V1"
      },
      "execution_count": 6,
      "outputs": []
    },
    {
      "cell_type": "code",
      "source": [
        "# Quantization config this allows us to load the model into memory and use less memory\n",
        "\n",
        "quant_config=BitsAndBytesConfig(\n",
        "    load_in_4bit=True,\n",
        "    bnb_4bit_compute_dtype=torch.float16,\n",
        "    bnb_4bit_quant_type=\"nf4\",\n",
        "    bnb_4bit_use_double_quant=True\n",
        ")"
      ],
      "metadata": {
        "id": "UEVSQ4n613oG"
      },
      "execution_count": 7,
      "outputs": []
    },
    {
      "cell_type": "code",
      "source": [
        "tokenizer=AutoTokenizer.from_pretrained(LLMA)\n",
        "tokenizer.pad_token=tokenizer.eos_token\n",
        "inputs=tokenizer.apply_chat_template(messages,return_tensors=\"pt\").to(\"cuda\")"
      ],
      "metadata": {
        "id": "yaxr2ZYV17pV"
      },
      "execution_count": null,
      "outputs": []
    },
    {
      "cell_type": "code",
      "source": [
        "model=AutoModelForCausalLM.from_pretrained(LLMA,quantization_config=quant_config,device_map=\"auto\")"
      ],
      "metadata": {
        "id": "qEUugKd72DJF"
      },
      "execution_count": null,
      "outputs": []
    },
    {
      "cell_type": "code",
      "source": [
        "  memory=model.get_memory_footprint()/1e6\n",
        "  print(f\"Memory_footprint: {memory:,.1f}\")"
      ],
      "metadata": {
        "id": "qLBfBxw73lPn"
      },
      "execution_count": null,
      "outputs": []
    },
    {
      "cell_type": "code",
      "source": [
        "model"
      ],
      "metadata": {
        "id": "264y_qtO5PXd"
      },
      "execution_count": null,
      "outputs": []
    },
    {
      "cell_type": "code",
      "source": [
        "outputs=model.generate(inputs,max_new_tokens=80)\n",
        "print(tokenizer.decode(outputs[0]))"
      ],
      "metadata": {
        "id": "Cr3Tmaws62Bk"
      },
      "execution_count": null,
      "outputs": []
    },
    {
      "cell_type": "code",
      "source": [
        "# clean up\n",
        "\n",
        "import torch\n",
        "globals().pop('inputs', None)\n",
        "globals().pop('model', None)\n",
        "globals().pop('tokenizer', None)\n",
        "torch.cuda.empty_cache()\n",
        "\n",
        "torch.cuda.empty_cache()\n"
      ],
      "metadata": {
        "id": "U0mgApms78Mk"
      },
      "execution_count": 25,
      "outputs": []
    },
    {
      "cell_type": "code",
      "source": [
        "# Wraping everything in a function and apply streaming\n",
        "\n",
        "def generate(model,messages):\n",
        "  device = \"cuda\" if torch.cuda.is_available() else \"cpu\"\n",
        "  tokenizer=AutoTokenizer.from_pretrained(model)\n",
        "  tokenizer.pad_token=tokenizer.eos_token\n",
        "  inputs=tokenizer.apply_chat_template(messages,return_tensors=\"pt\").to(device)\n",
        "  streamer=TextStreamer(tokenizer)\n",
        "  model=AutoModelForCausalLM.from_pretrained(LLMA,quantization_config=quant_config,device_map=\"auto\")\n",
        "  outputs=model.generate(inputs,max_new_tokens=80,streamer=streamer)\n",
        "  del inputs,outputs,model,streamer,tokenizer\n",
        "  torch.cuda.empty_cache\n",
        "\n"
      ],
      "metadata": {
        "id": "3Vc4aHfJ8SSh"
      },
      "execution_count": 26,
      "outputs": []
    },
    {
      "cell_type": "code",
      "source": [
        "generate(PHI3,messages)"
      ],
      "metadata": {
        "id": "M4XB3qCJ-HUo"
      },
      "execution_count": null,
      "outputs": []
    },
    {
      "cell_type": "code",
      "source": [
        "messages=[\n",
        "    {\"role\":\"user\",\"content\":\"Hi, How are you\"}\n",
        "]\n",
        "\n",
        "generate(GEMMA2, messages)\n"
      ],
      "metadata": {
        "id": "6IYcY4Kk_7p3"
      },
      "execution_count": null,
      "outputs": []
    }
  ]
}